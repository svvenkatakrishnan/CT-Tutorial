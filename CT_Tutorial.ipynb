{
 "cells": [
  {
   "cell_type": "markdown",
   "metadata": {},
   "source": [
    "### Conversion of a CT image to a noisy sinogram and reconstruction with noise and without noise.  \n",
    "\n",
    "This notebook is a tutorial on reconstruction of high-dynamic range CT images with proper physical scaling and a realistic noise model. \n",
    "\n",
    "**Outline of processing:**\n",
    "\n",
    "1. Read image: in Hounsfield units (air=0, water=1000)\n",
    "- Scale so that air=0, water=1\n",
    "- Take the raw sinogram using a specified number of views\n",
    "- Scale to account for pixel pitch and x-ray density\n",
    "- Add noise to the sinogram using the correct variance\n",
    "- Reconstruct from the original and noisy sinogram\n",
    "- Display the reconstructions and sinograms\n"
   ]
  },
  {
   "cell_type": "code",
   "execution_count": null,
   "metadata": {},
   "outputs": [],
   "source": [
    "''' \n",
    "Authors:  Gregery T. Buzzard and Charles A. Bouman\n",
    "Copyright 2019, Gregery T. Buzzard and Charles A. Bouman\n",
    "\n",
    "Permission is hereby granted, free of charge, to any person obtaining a copy of this \n",
    "software and associated documentation files (the \"Software\"), to deal in the Software \n",
    "without restriction, including without limitation the rights to use, copy, modify, merge, \n",
    "publish, distribute, sublicense, and/or sell copies of the Software, and to permit persons \n",
    "to whom the Software is furnished to do so, subject to the following conditions:\n",
    "\n",
    "The above copyright notice and this permission notice shall be included in all copies or \n",
    "substantial portions of the Software.\n",
    "\n",
    "THE SOFTWARE IS PROVIDED \"AS IS\", WITHOUT WARRANTY OF ANY KIND, EXPRESS OR IMPLIED, INCLUDING \n",
    "BUT NOT LIMITED TO THE WARRANTIES OF MERCHANTABILITY, FITNESS FOR A PARTICULAR PURPOSE AND NONINFRINGEMENT. \n",
    "IN NO EVENT SHALL THE AUTHORS OR COPYRIGHT HOLDERS BE LIABLE FOR ANY CLAIM, DAMAGES OR OTHER LIABILITY, \n",
    "WHETHER IN AN ACTION OF CONTRACT, TORT OR OTHERWISE, ARISING FROM, OUT OF OR IN CONNECTION WITH THE \n",
    "SOFTWARE OR THE USE OR OTHER DEALINGS IN THE SOFTWARE.\n",
    "'''\n",
    "import imageio\n",
    "import numpy as np\n",
    "import matplotlib.pyplot as plt\n",
    "from skimage.transform import radon, resize, iradon,iradon_sart"
   ]
  },
  {
   "cell_type": "markdown",
   "metadata": {},
   "source": [
    "**Input images:** \n",
    "\n",
    "The images are assumed to be single-energy (~100 KeV) CT images and have high dynamic range.  The pixel values are  in Hounsfield units, with air as 0 and water as 1000.  Hounsfield units are closely related to the atomic weight of the associated material. We then scale so that water is 1 and air is 0. In these scaled units, steel and other dense metals are about 12 to 15, but may go up to 20.   \n",
    "\n",
    "The file make_data.py creates high dynamic range images with some characteristics like those seen in CT scans of baggage.  \n"
   ]
  },
  {
   "cell_type": "code",
   "execution_count": null,
   "metadata": {},
   "outputs": [],
   "source": [
    "# Image to use\n",
    "filename = 'images/image01.png' \n",
    "\n",
    "# Read the image and resize if desired.  \n",
    "# Leave imsize = [] to use the natural image size\n",
    "\n",
    "imsize = []\n",
    "orig_img=imageio.imread(filename).astype(np.float)\n",
    "\n",
    "# The image is in Hounsfield units\n",
    "# Convert to Hounsfield units/1000 \n",
    "img = orig_img/1000.\n",
    "\n",
    "plt.figure(figsize=(20, 8))\n",
    "plt.imshow(img,vmin=0,vmax=3);plt.colorbar();plt.show()\n"
   ]
  },
  {
   "cell_type": "markdown",
   "metadata": {},
   "source": [
    "**Scaling:**  \n",
    "\n",
    "All CT scans are relative to a baseline scan with no objects - i.e., a scan of air, which makes air 0. \n",
    "\n",
    "The raw projection operator (radon function in python or matlab) sums along pixels, with assumed \n",
    "distance 1 between pixels.  To get the correct units, we need to scale.  The first step is raw projection:\n",
    "\n",
    "$$\\text{Raw projection} = Ax$$ \n",
    "\n",
    "($x$ is the image as scaled above, $Ax$ is the output of the radon method)\n",
    "\n",
    "This result needs to be scaled according to physical units.  \n",
    "\n",
    "**We scale by the pixel pitch (distance between pixels) times the x-ray density of water.**\n",
    "    \n",
    "We assume pixel pitch of 0.93 mm = 0.093 cm and water density at 100KeV of 0.17 cm^{-1}.  With an image size of 512x512 pixels, this corresponds to a width of 512*0.93/10 = 47.16 cm or 18.75 in.  Scaling of the projection is then \n",
    "\n",
    "$$ y \\text{ (or scaled projection) } = Ax * \\text{pixel_pitch} * \\text{water_xray_density} $$\n",
    "\n",
    "Note that if the original image was resized, then we have to adjust the pixel pitch accordingly so that the image has the same physical dimensions.  For example, if the image was resized from 512x512 to 256x256, then the pixel pitch is increased by a factor of two.  \n",
    "\n",
    "The sinogram values should be on the order of 0-5 for most images.  Here are approximate X-ray densities for common materials you might have in an image \n",
    "\n",
    "- water ~0.17 $\\text{cm}^{-1}$\n",
    "- steel ~3.0 $\\text{cm}^{-1}$\n",
    "- aluminum ~1.0 $\\text{cm}^{-1}$\n",
    "- plastic ~0.1 $\\text{cm}^{-1}$\n"
   ]
  },
  {
   "cell_type": "code",
   "execution_count": null,
   "metadata": {},
   "outputs": [],
   "source": [
    "cur_size = min(img.shape)\n",
    "image_scale = 1\n",
    "# Set the sinogram scaling factor\n",
    "pixel_pitch = 0.093 # in cm\n",
    "water_xray_density = 0.17 # in cm^{-1}\n",
    "\n",
    "pixel_pitch = pixel_pitch / image_scale\n",
    "\n",
    "sino_scale = pixel_pitch * water_xray_density\n",
    "\n"
   ]
  },
  {
   "cell_type": "markdown",
   "metadata": {},
   "source": [
    "**Forward projection:**\n",
    "\n",
    "Next we take the sinogram, scaled as above. "
   ]
  },
  {
   "cell_type": "code",
   "execution_count": null,
   "metadata": {},
   "outputs": [],
   "source": [
    "# Number of views\n",
    "views=512\n",
    "lambda0=16000*100\n",
    "\n",
    "# Set up the views and take the radon transform\n",
    "theta = np.linspace(0., 180., views, endpoint=False)\n",
    "\n",
    "# Set up the views and take the radon transform\n",
    "theta = np.linspace(0., 180., views, endpoint=False)\n",
    "\n",
    "sinogram = radon(img, theta=theta, circle=True)\n",
    "sinogram *= sino_scale\n",
    "\n",
    "# Sinogram noise variance scaling\n",
    "alpha = 1/lambda0\n",
    "\n",
    "# Add noise to the sinogram\n",
    "w = np.sqrt(alpha*np.exp(sinogram)) * np.random.randn(cur_size,views)\n",
    "\n",
    "nsinogram = sinogram + w\n",
    "\n",
    "plt.imshow(nsinogram.T);plt.xlabel('Det. index');plt.ylabel('Angle index')\n",
    "plt.show()"
   ]
  },
  {
   "cell_type": "markdown",
   "metadata": {},
   "source": [
    "**Reconstruction:**\n",
    "\n",
    "Next we invert the radon transform using filtered backprojection for both the noise-free and noisy sinograms.\n",
    "\n",
    "Since the sinogram was scaled using sino_scale as described above, we need to apply the inverse scaling to the reconstructions.  "
   ]
  },
  {
   "cell_type": "code",
   "execution_count": null,
   "metadata": {},
   "outputs": [],
   "source": [
    "# Invert the radon transform in the noise-free and noisy cases\n",
    "\n",
    "recon=iradon(sinogram, theta=theta, circle=True,filter='ramp')\n",
    "nrecon = iradon(nsinogram, theta=theta, circle=True,filter='ramp')\n",
    "\n",
    "# Scale to recover the appropriate units\n",
    "recon = recon / sino_scale\n",
    "nrecon = nrecon / sino_scale\n"
   ]
  },
  {
   "cell_type": "markdown",
   "metadata": {},
   "source": [
    "**Display**\n",
    "\n",
    "We display the original and reconstructed images and the sinograms.  \n",
    "\n",
    "Note that these images have a scale bar to indicate the intensity and that all the images are scaled to have the same intensity range.  We show several intensity bands to highlight the high dynamic range.  The reconstructions have values outside the given range, so the intensities are clipped, but the full range is shown in the titles.  "
   ]
  },
  {
   "cell_type": "code",
   "execution_count": null,
   "metadata": {},
   "outputs": [],
   "source": [
    "win_min = 0\n",
    "win_max = 2\n",
    "\n",
    "bounds = []\n",
    "for im in [img, recon, nrecon]:\n",
    "    cur_min = np.round(np.amin(im),1)\n",
    "    cur_max = np.round(np.amax(im),1)\n",
    "    bounds.append('{} to {}'.format(str(cur_min), str(cur_max)))\n",
    "# Display the original and reconstructed images\n",
    "titles = ['original, clipped\\n (full range is ' + bounds[0] + ' )']\n",
    "titles.append('noise-free recon, clipped\\n (full range is ' + bounds[1] + ' )')\n",
    "titles.append('noisy recon, clipped\\n (full range is ' + bounds[2] + ' )')\n",
    "     \n",
    "\n",
    "vmin = [0]\n",
    "vmax = [3]\n",
    "          \n",
    "num_scales = len(vmin)\n",
    "\n",
    "for i, im in enumerate([img, recon, nrecon]):\n",
    "    plt.figure(i, figsize=(20, 8))\n",
    "    plt.clf()        \n",
    "    \n",
    "    for k in range(num_scales):\n",
    "        # display at various scales\n",
    "        ax = plt.subplot(1,num_scales, k + 1)\n",
    "        plt.imshow(im, vmin=vmin[k], vmax=vmax[k])\n",
    "        plt.colorbar()\n",
    "        ax.get_xaxis().set_visible(False)\n",
    "        ax.get_yaxis().set_visible(False)   \n",
    "\n",
    "    plt.suptitle(titles[i])\n",
    "    #plt.tight_layout()\n",
    "    plt.show()\n",
    "\n"
   ]
  },
  {
   "cell_type": "code",
   "execution_count": null,
   "metadata": {},
   "outputs": [],
   "source": []
  },
  {
   "cell_type": "code",
   "execution_count": null,
   "metadata": {},
   "outputs": [],
   "source": []
  },
  {
   "cell_type": "code",
   "execution_count": null,
   "metadata": {},
   "outputs": [],
   "source": []
  }
 ],
 "metadata": {
  "kernelspec": {
   "display_name": "Python 3",
   "language": "python",
   "name": "python3"
  },
  "language_info": {
   "codemirror_mode": {
    "name": "ipython",
    "version": 3
   },
   "file_extension": ".py",
   "mimetype": "text/x-python",
   "name": "python",
   "nbconvert_exporter": "python",
   "pygments_lexer": "ipython3",
   "version": "3.8.5"
  }
 },
 "nbformat": 4,
 "nbformat_minor": 2
}
