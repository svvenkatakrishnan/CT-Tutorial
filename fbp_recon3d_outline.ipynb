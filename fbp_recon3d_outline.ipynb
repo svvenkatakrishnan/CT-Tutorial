{
 "cells": [
  {
   "cell_type": "markdown",
   "metadata": {},
   "source": [
    "# Example script for reconstructing 3D data sets\n",
    "\n",
    "3D CT reconstruction using the FBP algorithm from data stored in a .npz file "
   ]
  },
  {
   "cell_type": "code",
   "execution_count": null,
   "metadata": {},
   "outputs": [],
   "source": [
    "import numpy as np\n",
    "import matplotlib.pyplot as plt\n",
    "from skimage.transform import iradon\n",
    "import dxchange"
   ]
  },
  {
   "cell_type": "code",
   "execution_count": null,
   "metadata": {},
   "outputs": [],
   "source": [
    "#Path to file that contains the sinograms and angles \n",
    "data_file = 'orhs_apr21_ex_new.npz'"
   ]
  },
  {
   "cell_type": "code",
   "execution_count": null,
   "metadata": {},
   "outputs": [],
   "source": [
    "#Read .npz file \n",
    "sinogram = np.load(data_file)['sinogram']\n",
    "angles = np.load(data_file)['angles']"
   ]
  },
  {
   "cell_type": "code",
   "execution_count": null,
   "metadata": {},
   "outputs": [],
   "source": [
    "#Print sinogram and angles shape to verify data \n",
    "print(sinogram.shape)\n",
    "print(angles.shape)\n",
    "#Sinogram is stored in the order of slice, column index, angle index "
   ]
  },
  {
   "cell_type": "code",
   "execution_count": null,
   "metadata": {},
   "outputs": [],
   "source": [
    "#Plot \n",
    "plt.figure();plt.imshow(sinogram[0]);plt.colorbar()\n",
    "plt.figure();plt.imshow(sinogram[511]);plt.colorbar()\n",
    "plt.figure();plt.plot(angles)\n",
    "\n",
    "#Another look at the sinogram array \n",
    "plt.figure();plt.imshow(np.squeeze(sinogram[:,:,0]));plt.colorbar()\n",
    "plt.figure();plt.imshow(np.squeeze(sinogram[:,:,290]));plt.colorbar()"
   ]
  },
  {
   "cell_type": "code",
   "execution_count": null,
   "metadata": {},
   "outputs": [],
   "source": [
    "#FBP reconstruction for each sinogram \n",
    "num_slice =\n",
    "num_col = \n",
    "recon_fbp = np.zeros((num_slice,num_col,num_col)).astype(np.float32)\n",
    "for idx in range(num_slice):\n",
    "    print('Reconstructing slice %d of %d'%(idx,num_slice))\n",
    "    recon_fbp[idx]="
   ]
  },
  {
   "cell_type": "code",
   "execution_count": null,
   "metadata": {},
   "outputs": [],
   "source": [
    "#Plot a reconstructed slice\n",
    "disp_slice_idx = num_slice-1\n"
   ]
  },
  {
   "cell_type": "code",
   "execution_count": null,
   "metadata": {},
   "outputs": [],
   "source": [
    "#Write to tiff files \n",
    "dxchange.writer.write_tiff_stack(recon_fbp, fname='test_recon/slice.tiff', axis=0, digit=5, start=0, overwrite=True) "
   ]
  },
  {
   "cell_type": "code",
   "execution_count": null,
   "metadata": {},
   "outputs": [],
   "source": []
  }
 ],
 "metadata": {
  "kernelspec": {
   "display_name": "Python 3",
   "language": "python",
   "name": "python3"
  },
  "language_info": {
   "codemirror_mode": {
    "name": "ipython",
    "version": 3
   },
   "file_extension": ".py",
   "mimetype": "text/x-python",
   "name": "python",
   "nbconvert_exporter": "python",
   "pygments_lexer": "ipython3",
   "version": "3.8.5"
  }
 },
 "nbformat": 4,
 "nbformat_minor": 4
}
