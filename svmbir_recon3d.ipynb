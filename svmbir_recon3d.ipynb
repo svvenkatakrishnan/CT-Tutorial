{
 "cells": [
  {
   "cell_type": "markdown",
   "metadata": {},
   "source": [
    "# Example script for reconstructing 3D data sets\n",
    "\n",
    "3D CT reconstruction using the FBP algorithm from data stored in a .npz file "
   ]
  },
  {
   "cell_type": "code",
   "execution_count": null,
   "metadata": {},
   "outputs": [],
   "source": [
    "import numpy as np\n",
    "import matplotlib.pyplot as plt\n",
    "from skimage.transform import iradon\n",
    "import svmbir "
   ]
  },
  {
   "cell_type": "code",
   "execution_count": null,
   "metadata": {},
   "outputs": [],
   "source": [
    "#Path to file that contains the sinograms and angles \n",
    "data_file = 'orhs_apr21_ex_new.npz'"
   ]
  },
  {
   "cell_type": "code",
   "execution_count": null,
   "metadata": {},
   "outputs": [],
   "source": [
    "#Read .npz file \n",
    "sinogram = np.load(data_file)['sinogram']\n",
    "angles = np.load(data_file)['angles']"
   ]
  },
  {
   "cell_type": "code",
   "execution_count": null,
   "metadata": {},
   "outputs": [],
   "source": [
    "#Print sinogram and angles shape to verify data \n",
    "print(sinogram.shape)\n",
    "print(angles.shape)\n",
    "\n",
    "#Sinogram is stored in the order of slice, column index, angle index "
   ]
  },
  {
   "cell_type": "code",
   "execution_count": null,
   "metadata": {},
   "outputs": [],
   "source": [
    "#Sub-set data to reduce computation (for demo) \n",
    "NUM_SLICE_RECON=4\n",
    "VIEW_SUBSAMP=4\n",
    "sinogram = sinogram[256:256+NUM_SLICE_RECON,:,::VIEW_SUBSAMP]\n",
    "angles = angles[::VIEW_SUBSAMP]"
   ]
  },
  {
   "cell_type": "code",
   "execution_count": null,
   "metadata": {},
   "outputs": [],
   "source": [
    "#Plot \n",
    "plt.figure();plt.imshow(sinogram[0]);plt.colorbar()\n",
    "plt.figure();plt.imshow(sinogram[NUM_SLICE_RECON-1]);plt.colorbar()\n",
    "plt.figure();plt.plot(angles)\n",
    "\n",
    "#Another look at the sinogram array \n",
    "plt.figure();plt.imshow(np.squeeze(sinogram[:,:,0]));plt.colorbar()\n",
    "plt.figure();plt.imshow(np.squeeze(sinogram[:,:,sinogram.shape[2]-1]));plt.colorbar()"
   ]
  },
  {
   "cell_type": "code",
   "execution_count": null,
   "metadata": {},
   "outputs": [],
   "source": [
    "#FBP reconstruction for each sinogram \n",
    "num_slice = sinogram.shape[0]\n",
    "num_col = sinogram.shape[1]\n",
    "recon_fbp = np.zeros((num_slice,num_col,num_col)).astype(np.float32)\n",
    "for idx in range(num_slice):\n",
    "    print('Reconstructing slice %d of %d'%(idx,num_slice))\n",
    "    recon_fbp[idx]=iradon(sinogram[idx],angles,circle=True,filter='ramp')"
   ]
  },
  {
   "cell_type": "code",
   "execution_count": null,
   "metadata": {},
   "outputs": [],
   "source": [
    "#MBIR reconstruction\n",
    "#Sinogram has to be of order of angles, slice index, column index \n",
    "#Angles have to be in radians \n",
    "MRF_P=1.2\n",
    "sharpness = 0.0\n",
    "T=0.1\n",
    "snr_db = 40.0\n",
    "angles_rad = angles*np.pi/180\n",
    "recon_mbir = svmbir.recon(sinogram.swapaxes(0,2).swapaxes(1,2), angles_rad, p=MRF_P,T = T,snr_db=snr_db,positivity=False,verbose=1)"
   ]
  },
  {
   "cell_type": "code",
   "execution_count": null,
   "metadata": {},
   "outputs": [],
   "source": [
    "#Plot a reconstructed slice\n",
    "disp_slice_idx = num_slice-1\n",
    "DISP_MIN=-0.002\n",
    "DISP_MAX=0.006\n",
    "plt.figure();plt.imshow(recon_fbp[disp_slice_idx],cmap='gray',vmin=DISP_MIN,vmax=DISP_MAX);plt.colorbar()\n",
    "plt.figure();plt.imshow(np.flipud(np.rot90(recon_mbir[disp_slice_idx])),cmap='gray',vmin=DISP_MIN,vmax=DISP_MAX);plt.colorbar()"
   ]
  },
  {
   "cell_type": "code",
   "execution_count": null,
   "metadata": {},
   "outputs": [],
   "source": [
    "#Write to tiff files \n",
    "import dxchange\n",
    "dxchange.writer.write_tiff_stack(recon_fbp, fname='test_recon/fbp_slice.tiff', axis=0, digit=5, start=0, overwrite=False) \n",
    "dxchange.writer.write_tiff_stack(recon_mbir, fname='test_recon/mbir_slice.tiff', axis=0, digit=5, start=0, overwrite=False) "
   ]
  },
  {
   "cell_type": "code",
   "execution_count": null,
   "metadata": {},
   "outputs": [],
   "source": []
  }
 ],
 "metadata": {
  "kernelspec": {
   "display_name": "Python 3 (ipykernel)",
   "language": "python",
   "name": "python3"
  },
  "language_info": {
   "codemirror_mode": {
    "name": "ipython",
    "version": 3
   },
   "file_extension": ".py",
   "mimetype": "text/x-python",
   "name": "python",
   "nbconvert_exporter": "python",
   "pygments_lexer": "ipython3",
   "version": "3.8.10"
  }
 },
 "nbformat": 4,
 "nbformat_minor": 4
}
